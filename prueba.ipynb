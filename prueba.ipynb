{
 "cells": [
  {
   "cell_type": "code",
   "execution_count": 1,
   "id": "9a69ded5",
   "metadata": {},
   "outputs": [],
   "source": [
    "import utils.multimode_reservoir as mr\n",
    "import numpy as np\n",
    "import matplotlib.pyplot as plt\n",
    "import os\n",
    "import cupy as cp\n",
    "from utils.information_processing_capacity import single_input_ipc"
   ]
  },
  {
   "cell_type": "code",
   "execution_count": 2,
   "id": "cbea94a2",
   "metadata": {},
   "outputs": [
    {
     "name": "stdout",
     "output_type": "stream",
     "text": [
      "zeta shape (210,)\n"
     ]
    }
   ],
   "source": [
    "##### Parameters for reservoir #####\n",
    "Two = 10 # Washout time\n",
    "T = 200 # Time length except washout\n",
    "\n",
    "N,n = 7,7 # Number of modes in pump and signal\n",
    "mask_scale = 0.5 # Mask scaling\n",
    "#Weight\n",
    "seed = 0\n",
    "\n",
    "##### Input #####\n",
    "np.random.seed(seed)\n",
    "zeta = 2*np.random.rand(Two+T)-1\n",
    "print('zeta shape',zeta.shape)\n",
    "np.save('zeta_%i.npy' %(len(zeta)),zeta)\n",
    "\n",
    "res = mr.MultiModeReservoir(N,n)"
   ]
  },
  {
   "cell_type": "code",
   "execution_count": 3,
   "id": "b2d4bd39",
   "metadata": {},
   "outputs": [
    {
     "name": "stderr",
     "output_type": "stream",
     "text": [
      "Computing reservoir states:   0%|          | 0/210 [00:00<?, ?it/s]"
     ]
    },
    {
     "name": "stderr",
     "output_type": "stream",
     "text": [
      "/home/jorgegarcia/Desktop/env_jorge/experimental_setups/pump_frexel_memory - good version/utils/utils_functions.py:25: ComplexWarning: Casting complex values to real discards the imaginary part\n",
      "  expanded_matrix[2 * i:2 * i + 2, 2 * j:2 * j + 2] = np.diag([U[i, j], U[i, j]])\n",
      "Computing reservoir states: 100%|██████████| 210/210 [52:01<00:00, 14.86s/it]"
     ]
    },
    {
     "name": "stdout",
     "output_type": "stream",
     "text": [
      "X shape (210, 28)\n"
     ]
    },
    {
     "name": "stderr",
     "output_type": "stream",
     "text": [
      "\n"
     ]
    }
   ],
   "source": [
    "X,_ = res.get_reservoir_sequence(zeta, mask_scale=mask_scale)\n",
    "print('X shape',X.shape)\n",
    "np.save('X_%i_%i.npy' %(N,n),X)"
   ]
  },
  {
   "cell_type": "code",
   "execution_count": 7,
   "id": "ee97e779",
   "metadata": {},
   "outputs": [
    {
     "ename": "CUDARuntimeError",
     "evalue": "cudaErrorInsufficientDriver: CUDA driver version is insufficient for CUDA runtime version",
     "output_type": "error",
     "traceback": [
      "\u001b[0;31m---------------------------------------------------------------------------\u001b[0m",
      "\u001b[0;31mCUDARuntimeError\u001b[0m                          Traceback (most recent call last)",
      "Cell \u001b[0;32mIn[7], line 6\u001b[0m\n\u001b[1;32m      4\u001b[0m degdelays \u001b[38;5;241m=\u001b[39m [[\u001b[38;5;241m1\u001b[39m,\u001b[38;5;241m10\u001b[39m],[\u001b[38;5;241m2\u001b[39m,\u001b[38;5;241m10\u001b[39m],[\u001b[38;5;241m3\u001b[39m,\u001b[38;5;241m10\u001b[39m]]\n\u001b[1;32m      5\u001b[0m \u001b[38;5;66;03m# Class for IPC\u001b[39;00m\n\u001b[0;32m----> 6\u001b[0m ipc \u001b[38;5;241m=\u001b[39m \u001b[43msingle_input_ipc\u001b[49m\u001b[43m(\u001b[49m\u001b[43mzeta\u001b[49m\u001b[43m,\u001b[49m\u001b[43mTwo\u001b[49m\u001b[43m,\u001b[49m\u001b[43mdegdelays\u001b[49m\u001b[43m,\u001b[49m\u001b[43mpoly\u001b[49m\u001b[38;5;241;43m=\u001b[39;49m\u001b[43mpoly\u001b[49m\u001b[43m,\u001b[49m\u001b[43mdistr\u001b[49m\u001b[38;5;241;43m=\u001b[39;49m\u001b[43mdistr\u001b[49m\u001b[43m,\u001b[49m\u001b[43mzerobased\u001b[49m\u001b[38;5;241;43m=\u001b[39;49m\u001b[38;5;28;43;01mTrue\u001b[39;49;00m\u001b[43m)\u001b[49m\n",
      "File \u001b[0;32m~/Desktop/env_jorge/experimental_setups/pump_frexel_memory - good version/utils/information_processing_capacity.py:68\u001b[0m, in \u001b[0;36msingle_input_ipc.__init__\u001b[0;34m(self, zeta, Two, degdelays, poly, distr, Nseed, zerobased, poly_params)\u001b[0m\n\u001b[1;32m     66\u001b[0m \u001b[38;5;28mself\u001b[39m\u001b[38;5;241m.\u001b[39mindexlist \u001b[38;5;241m=\u001b[39m [\u001b[38;5;124m'\u001b[39m\u001b[38;5;124mipcs_degree\u001b[39m\u001b[38;5;124m'\u001b[39m,\u001b[38;5;124m'\u001b[39m\u001b[38;5;124mipcs_delay\u001b[39m\u001b[38;5;124m'\u001b[39m,\u001b[38;5;124m'\u001b[39m\u001b[38;5;124mCtots\u001b[39m\u001b[38;5;124m'\u001b[39m,\u001b[38;5;124m'\u001b[39m\u001b[38;5;124mranks\u001b[39m\u001b[38;5;124m'\u001b[39m]\n\u001b[1;32m     67\u001b[0m \u001b[38;5;66;03m# Prepare univariate polynomials\u001b[39;00m\n\u001b[0;32m---> 68\u001b[0m u \u001b[38;5;241m=\u001b[39m \u001b[43mcp\u001b[49m\u001b[38;5;241;43m.\u001b[39;49m\u001b[43marray\u001b[49m\u001b[43m(\u001b[49m\u001b[38;5;28;43mself\u001b[39;49m\u001b[38;5;241;43m.\u001b[39;49m\u001b[43mzeta\u001b[49m\u001b[43m)\u001b[49m\n\u001b[1;32m     69\u001b[0m univariate_polys \u001b[38;5;241m=\u001b[39m ipc_univariate_polynomials(u,\u001b[38;5;28mself\u001b[39m\u001b[38;5;241m.\u001b[39mdegmax,\u001b[38;5;28mself\u001b[39m\u001b[38;5;241m.\u001b[39mpoly,\u001b[38;5;241m*\u001b[39m\u001b[38;5;241m*\u001b[39m\u001b[38;5;28mself\u001b[39m\u001b[38;5;241m.\u001b[39mpoly_params)\n\u001b[1;32m     70\u001b[0m \u001b[38;5;28mself\u001b[39m\u001b[38;5;241m.\u001b[39mbases \u001b[38;5;241m=\u001b[39m univariate_polys\u001b[38;5;241m.\u001b[39mbases\n",
      "File \u001b[0;32m~/miniconda3/envs/crystal_env/lib/python3.10/site-packages/cupy/_creation/from_data.py:53\u001b[0m, in \u001b[0;36marray\u001b[0;34m(obj, dtype, copy, order, subok, ndmin, blocking)\u001b[0m\n\u001b[1;32m      7\u001b[0m \u001b[38;5;28;01mdef\u001b[39;00m\u001b[38;5;250m \u001b[39m\u001b[38;5;21marray\u001b[39m(obj, dtype\u001b[38;5;241m=\u001b[39m\u001b[38;5;28;01mNone\u001b[39;00m, copy\u001b[38;5;241m=\u001b[39m\u001b[38;5;28;01mTrue\u001b[39;00m, order\u001b[38;5;241m=\u001b[39m\u001b[38;5;124m'\u001b[39m\u001b[38;5;124mK\u001b[39m\u001b[38;5;124m'\u001b[39m, subok\u001b[38;5;241m=\u001b[39m\u001b[38;5;28;01mFalse\u001b[39;00m, ndmin\u001b[38;5;241m=\u001b[39m\u001b[38;5;241m0\u001b[39m, \u001b[38;5;241m*\u001b[39m,\n\u001b[1;32m      8\u001b[0m           blocking\u001b[38;5;241m=\u001b[39m\u001b[38;5;28;01mFalse\u001b[39;00m):\n\u001b[1;32m      9\u001b[0m \u001b[38;5;250m    \u001b[39m\u001b[38;5;124;03m\"\"\"Creates an array on the current device.\u001b[39;00m\n\u001b[1;32m     10\u001b[0m \n\u001b[1;32m     11\u001b[0m \u001b[38;5;124;03m    This function currently does not support the ``subok`` option.\u001b[39;00m\n\u001b[0;32m   (...)\u001b[0m\n\u001b[1;32m     51\u001b[0m \n\u001b[1;32m     52\u001b[0m \u001b[38;5;124;03m    \"\"\"\u001b[39;00m\n\u001b[0;32m---> 53\u001b[0m     \u001b[38;5;28;01mreturn\u001b[39;00m \u001b[43m_core\u001b[49m\u001b[38;5;241;43m.\u001b[39;49m\u001b[43marray\u001b[49m\u001b[43m(\u001b[49m\u001b[43mobj\u001b[49m\u001b[43m,\u001b[49m\u001b[43m \u001b[49m\u001b[43mdtype\u001b[49m\u001b[43m,\u001b[49m\u001b[43m \u001b[49m\u001b[43mcopy\u001b[49m\u001b[43m,\u001b[49m\u001b[43m \u001b[49m\u001b[43morder\u001b[49m\u001b[43m,\u001b[49m\u001b[43m \u001b[49m\u001b[43msubok\u001b[49m\u001b[43m,\u001b[49m\u001b[43m \u001b[49m\u001b[43mndmin\u001b[49m\u001b[43m,\u001b[49m\u001b[43m \u001b[49m\u001b[43mblocking\u001b[49m\u001b[43m)\u001b[49m\n",
      "File \u001b[0;32mcupy/_core/core.pyx:2502\u001b[0m, in \u001b[0;36mcupy._core.core.array\u001b[0;34m()\u001b[0m\n",
      "File \u001b[0;32mcupy/_core/core.pyx:2529\u001b[0m, in \u001b[0;36mcupy._core.core.array\u001b[0;34m()\u001b[0m\n",
      "File \u001b[0;32mcupy/_core/core.pyx:2740\u001b[0m, in \u001b[0;36mcupy._core.core._array_default\u001b[0;34m()\u001b[0m\n",
      "File \u001b[0;32mcupy/_core/core.pyx:167\u001b[0m, in \u001b[0;36mcupy._core.core.ndarray.__new__\u001b[0;34m()\u001b[0m\n",
      "File \u001b[0;32mcupy/_core/core.pyx:254\u001b[0m, in \u001b[0;36mcupy._core.core._ndarray_base._init\u001b[0;34m()\u001b[0m\n",
      "File \u001b[0;32mcupy/cuda/memory.pyx:875\u001b[0m, in \u001b[0;36mcupy.cuda.memory.alloc\u001b[0;34m()\u001b[0m\n",
      "File \u001b[0;32mcupy/cuda/memory.pyx:1579\u001b[0m, in \u001b[0;36mcupy.cuda.memory.MemoryPool.malloc\u001b[0;34m()\u001b[0m\n",
      "File \u001b[0;32mcupy/cuda/memory.pyx:1599\u001b[0m, in \u001b[0;36mcupy.cuda.memory.MemoryPool.malloc\u001b[0;34m()\u001b[0m\n",
      "File \u001b[0;32mcupy/cuda/device.pyx:40\u001b[0m, in \u001b[0;36mcupy.cuda.device.get_device_id\u001b[0;34m()\u001b[0m\n",
      "File \u001b[0;32mcupy_backends/cuda/api/runtime.pyx:202\u001b[0m, in \u001b[0;36mcupy_backends.cuda.api.runtime.getDevice\u001b[0;34m()\u001b[0m\n",
      "File \u001b[0;32mcupy_backends/cuda/api/runtime.pyx:146\u001b[0m, in \u001b[0;36mcupy_backends.cuda.api.runtime.check_status\u001b[0;34m()\u001b[0m\n",
      "\u001b[0;31mCUDARuntimeError\u001b[0m: cudaErrorInsufficientDriver: CUDA driver version is insufficient for CUDA runtime version"
     ]
    }
   ],
   "source": [
    "# Parameters for IPC\n",
    "poly = 'legendre'\n",
    "distr = 'uniform'\n",
    "degdelays = [[1,10],[2,10],[3,10]]\n",
    "# Class for IPC\n",
    "ipc = single_input_ipc(zeta,Two,degdelays,poly=poly,distr=distr,zerobased=True)"
   ]
  },
  {
   "cell_type": "code",
   "execution_count": null,
   "id": "2ed79959",
   "metadata": {},
   "outputs": [],
   "source": [
    "gpu_id = 0\n",
    "cp.cuda.Device(gpu_id).use()"
   ]
  }
 ],
 "metadata": {
  "kernelspec": {
   "display_name": "crystal_env",
   "language": "python",
   "name": "python3"
  },
  "language_info": {
   "codemirror_mode": {
    "name": "ipython",
    "version": 3
   },
   "file_extension": ".py",
   "mimetype": "text/x-python",
   "name": "python",
   "nbconvert_exporter": "python",
   "pygments_lexer": "ipython3",
   "version": "3.10.18"
  }
 },
 "nbformat": 4,
 "nbformat_minor": 5
}
